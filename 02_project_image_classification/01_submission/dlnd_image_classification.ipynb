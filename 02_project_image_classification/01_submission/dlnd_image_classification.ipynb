{
 "cells": [
  {
   "cell_type": "markdown",
   "metadata": {
    "collapsed": true,
    "deletable": true,
    "editable": true
   },
   "source": [
    "# Image Classification\n",
    "In this project, you'll classify images from the [CIFAR-10 dataset](https://www.cs.toronto.edu/~kriz/cifar.html).  The dataset consists of airplanes, dogs, cats, and other objects. You'll preprocess the images, then train a convolutional neural network on all the samples. The images need to be normalized and the labels need to be one-hot encoded.  You'll get to apply what you learned and build a convolutional, max pooling, dropout, and fully connected layers.  At the end, you'll get to see your neural network's predictions on the sample images.\n",
    "## Get the Data\n",
    "Run the following cell to download the [CIFAR-10 dataset for python](https://www.cs.toronto.edu/~kriz/cifar-10-python.tar.gz)."
   ]
  },
  {
   "cell_type": "code",
   "execution_count": 1,
   "metadata": {
    "collapsed": false,
    "deletable": true,
    "editable": true
   },
   "outputs": [
    {
     "name": "stderr",
     "output_type": "stream",
     "text": [
      "CIFAR-10 Dataset: 171MB [01:34, 1.81MB/s]                              \n"
     ]
    },
    {
     "name": "stdout",
     "output_type": "stream",
     "text": [
      "All files found!\n"
     ]
    }
   ],
   "source": [
    "\"\"\"\n",
    "DON'T MODIFY ANYTHING IN THIS CELL THAT IS BELOW THIS LINE\n",
    "\"\"\"\n",
    "from urllib.request import urlretrieve\n",
    "from os.path import isfile, isdir\n",
    "from tqdm import tqdm\n",
    "import problem_unittests as tests\n",
    "import tarfile\n",
    "\n",
    "cifar10_dataset_folder_path = 'cifar-10-batches-py'\n",
    "\n",
    "class DLProgress(tqdm):\n",
    "    last_block = 0\n",
    "\n",
    "    def hook(self, block_num=1, block_size=1, total_size=None):\n",
    "        self.total = total_size\n",
    "        self.update((block_num - self.last_block) * block_size)\n",
    "        self.last_block = block_num\n",
    "\n",
    "if not isfile('cifar-10-python.tar.gz'):\n",
    "    with DLProgress(unit='B', unit_scale=True, miniters=1, desc='CIFAR-10 Dataset') as pbar:\n",
    "        urlretrieve(\n",
    "            'https://www.cs.toronto.edu/~kriz/cifar-10-python.tar.gz',\n",
    "            'cifar-10-python.tar.gz',\n",
    "            pbar.hook)\n",
    "\n",
    "if not isdir(cifar10_dataset_folder_path):\n",
    "    with tarfile.open('cifar-10-python.tar.gz') as tar:\n",
    "        tar.extractall()\n",
    "        tar.close()\n",
    "\n",
    "\n",
    "tests.test_folder_path(cifar10_dataset_folder_path)"
   ]
  },
  {
   "cell_type": "markdown",
   "metadata": {
    "deletable": true,
    "editable": true
   },
   "source": [
    "## Explore the Data\n",
    "The dataset is broken into batches to prevent your machine from running out of memory.  The CIFAR-10 dataset consists of 5 batches, named `data_batch_1`, `data_batch_2`, etc.. Each batch contains the labels and images that are one of the following:\n",
    "* airplane\n",
    "* automobile\n",
    "* bird\n",
    "* cat\n",
    "* deer\n",
    "* dog\n",
    "* frog\n",
    "* horse\n",
    "* ship\n",
    "* truck\n",
    "\n",
    "Understanding a dataset is part of making predictions on the data.  Play around with the code cell below by changing the `batch_id` and `sample_id`. The `batch_id` is the id for a batch (1-5). The `sample_id` is the id for a image and label pair in the batch.\n",
    "\n",
    "Ask yourself \"What are all possible labels?\", \"What is the range of values for the image data?\", \"Are the labels in order or random?\".  Answers to questions like these will help you preprocess the data and end up with better predictions."
   ]
  },
  {
   "cell_type": "code",
   "execution_count": 2,
   "metadata": {
    "collapsed": false,
    "deletable": true,
    "editable": true
   },
   "outputs": [
    {
     "name": "stdout",
     "output_type": "stream",
     "text": [
      "\n",
      "Stats of batch 3:\n",
      "Samples: 10000\n",
      "Label Counts: {0: 994, 1: 1042, 2: 965, 3: 997, 4: 990, 5: 1029, 6: 978, 7: 1015, 8: 961, 9: 1029}\n",
      "First 20 Labels: [8, 5, 0, 6, 9, 2, 8, 3, 6, 2, 7, 4, 6, 9, 0, 0, 7, 3, 7, 2]\n",
      "\n",
      "Example of Image 50:\n",
      "Image - Min Value: 5 Max Value: 254\n",
      "Image - Shape: (32, 32, 3)\n",
      "Label - Label Id: 3 Name: cat\n"
     ]
    },
    {
     "data": {
      "image/png": "[encoded data removed]",
      "text/plain": [
       "<matplotlib.figure.Figure at 0x7f96b2852a20>"
      ]
     },
     "metadata": {
      "image/png": {
       "height": 250,
       "width": 253
      }
     },
     "output_type": "display_data"
    }
   ],
   "source": [
    "%matplotlib inline\n",
    "%config InlineBackend.figure_format = 'retina'\n",
    "\n",
    "import helper\n",
    "import numpy as np\n",
    "\n",
    "# Explore the dataset\n",
    "batch_id = 3\n",
    "sample_id = 50\n",
    "helper.display_stats(cifar10_dataset_folder_path, batch_id, sample_id)"
   ]
  },
  {
   "cell_type": "markdown",
   "metadata": {
    "deletable": true,
    "editable": true
   },
   "source": [
    "## Implement Preprocess Functions\n",
    "### Normalize\n",
    "In the cell below, implement the `normalize` function to take in image data, `x`, and return it as a normalized Numpy array. The values should be in the range of 0 to 1, inclusive.  The return object should be the same shape as `x`."
   ]
  },
  {
   "cell_type": "code",
   "execution_count": 3,
   "metadata": {
    "collapsed": false,
    "deletable": true,
    "editable": true
   },
   "outputs": [
    {
     "name": "stdout",
     "output_type": "stream",
     "text": [
      "Tests Passed\n"
     ]
    }
   ],
   "source": [
    "def normalize(x):\n",
    "    \"\"\"\n",
    "    Normalize a list of sample image data in the range of 0 to 1\n",
    "    : x: List of image data.  The image shape is (32, 32, 3)\n",
    "    : return: Numpy array of normalize data\n",
    "    \"\"\"\n",
    "    x_max = np.amax(x)\n",
    "    x_min = np.amin(x)\n",
    "    return (x - x_min) / (x_max - x_min)\n",
    "\n",
    "\n",
    "\"\"\"\n",
    "DON'T MODIFY ANYTHING IN THIS CELL THAT IS BELOW THIS LINE\n",
    "\"\"\"\n",
    "tests.test_normalize(normalize)"
   ]
  },
  {
   "cell_type": "markdown",
   "metadata": {
    "deletable": true,
    "editable": true
   },
   "source": [
    "### One-hot encode\n",
    "Just like the previous code cell, you'll be implementing a function for preprocessing.  This time, you'll implement the `one_hot_encode` function. The input, `x`, are a list of labels.  Implement the function to return the list of labels as One-Hot encoded Numpy array.  The possible values for labels are 0 to 9. The one-hot encoding function should return the same encoding for each value between each call to `one_hot_encode`.  Make sure to save the map of encodings outside the function.\n",
    "\n",
    "Hint: Don't reinvent the wheel."
   ]
  },
  {
   "cell_type": "code",
   "execution_count": 4,
   "metadata": {
    "collapsed": false,
    "deletable": true,
    "editable": true
   },
   "outputs": [
    {
     "name": "stdout",
     "output_type": "stream",
     "text": [
      "[[ 1.  0.  0.  0.  0.  0.  0.  0.  0.  0.]\n",
      " [ 0.  1.  0.  0.  0.  0.  0.  0.  0.  0.]\n",
      " [ 0.  0.  1.  0.  0.  0.  0.  0.  0.  0.]\n",
      " [ 0.  0.  0.  1.  0.  0.  0.  0.  0.  0.]\n",
      " [ 0.  0.  0.  0.  1.  0.  0.  0.  0.  0.]\n",
      " [ 0.  0.  0.  0.  0.  1.  0.  0.  0.  0.]\n",
      " [ 0.  0.  0.  0.  0.  0.  1.  0.  0.  0.]\n",
      " [ 0.  0.  0.  0.  0.  0.  0.  1.  0.  0.]\n",
      " [ 0.  0.  0.  0.  0.  0.  0.  0.  1.  0.]\n",
      " [ 0.  0.  0.  0.  0.  0.  0.  0.  0.  1.]]\n",
      "Tests Passed\n"
     ]
    }
   ],
   "source": [
    "encodings = np.eye(10)\n",
    "\n",
    "print(encodings)\n",
    "\n",
    "def one_hot_encode(x):\n",
    "    \"\"\"\n",
    "    One hot encode a list of sample labels. Return a one-hot encoded vector for each label.\n",
    "    : x: List of sample Labels\n",
    "    : return: Numpy array of one-hot encoded labels\n",
    "    \"\"\"\n",
    "    return encodings[x]\n",
    "\n",
    "\n",
    "\"\"\"\n",
    "DON'T MODIFY ANYTHING IN THIS CELL THAT IS BELOW THIS LINE\n",
    "\"\"\"\n",
    "tests.test_one_hot_encode(one_hot_encode)"
   ]
  },
  {
   "cell_type": "markdown",
   "metadata": {
    "deletable": true,
    "editable": true
   },
   "source": [
    "### Randomize Data\n",
    "As you saw from exploring the data above, the order of the samples are randomized.  It doesn't hurt to randomize it again, but you don't need to for this dataset."
   ]
  },
  {
   "cell_type": "markdown",
   "metadata": {
    "deletable": true,
    "editable": true
   },
   "source": [
    "## Preprocess all the data and save it\n",
    "Running the code cell below will preprocess all the CIFAR-10 data and save it to file. The code below also uses 10% of the training data for validation."
   ]
  },
  {
   "cell_type": "code",
   "execution_count": 5,
   "metadata": {
    "collapsed": false,
    "deletable": true,
    "editable": true
   },
   "outputs": [],
   "source": [
    "\"\"\"\n",
    "DON'T MODIFY ANYTHING IN THIS CELL\n",
    "\"\"\"\n",
    "# Preprocess Training, Validation, and Testing Data\n",
    "helper.preprocess_and_save_data(cifar10_dataset_folder_path, normalize, one_hot_encode)"
   ]
  },
  {
   "cell_type": "markdown",
   "metadata": {
    "deletable": true,
    "editable": true
   },
   "source": [
    "# Check Point\n",
    "This is your first checkpoint.  If you ever decide to come back to this notebook or have to restart the notebook, you can start from here.  The preprocessed data has been saved to disk."
   ]
  },
  {
   "cell_type": "code",
   "execution_count": 6,
   "metadata": {
    "collapsed": true,
    "deletable": true,
    "editable": true
   },
   "outputs": [],
   "source": [
    "\"\"\"\n",
    "DON'T MODIFY ANYTHING IN THIS CELL\n",
    "\"\"\"\n",
    "import pickle\n",
    "import problem_unittests as tests\n",
    "import helper\n",
    "\n",
    "# Load the Preprocessed Validation data\n",
    "valid_features, valid_labels = pickle.load(open('preprocess_validation.p', mode='rb'))"
   ]
  },
  {
   "cell_type": "markdown",
   "metadata": {
    "deletable": true,
    "editable": true
   },
   "source": [
    "## Build the network\n",
    "For the neural network, you'll build each layer into a function.  Most of the code you've seen has been outside of functions. To test your code more thoroughly, we require that you put each layer in a function.  This allows us to give you better feedback and test for simple mistakes using our unittests before you submit your project.\n",
    "\n",
    "If you're finding it hard to dedicate enough time for this course a week, we've provided a small shortcut to this part of the project. In the next couple of problems, you'll have the option to use [TensorFlow Layers](https://www.tensorflow.org/api_docs/python/tf/layers) or [TensorFlow Layers (contrib)](https://www.tensorflow.org/api_guides/python/contrib.layers) to build each layer, except \"Convolutional & Max Pooling\" layer.  TF Layers is similar to Keras's and TFLearn's abstraction to layers, so it's easy to pickup.\n",
    "\n",
    "If you would like to get the most of this course, try to solve all the problems without TF Layers.  Let's begin!\n",
    "### Input\n",
    "The neural network needs to read the image data, one-hot encoded labels, and dropout keep probability. Implement the following functions\n",
    "* Implement `neural_net_image_input`\n",
    " * Return a [TF Placeholder](https://www.tensorflow.org/api_docs/python/tf/placeholder)\n",
    " * Set the shape using `image_shape` with batch size set to `None`.\n",
    " * Name the TensorFlow placeholder \"x\" using the TensorFlow `name` parameter in the [TF Placeholder](https://www.tensorflow.org/api_docs/python/tf/placeholder).\n",
    "* Implement `neural_net_label_input`\n",
    " * Return a [TF Placeholder](https://www.tensorflow.org/api_docs/python/tf/placeholder)\n",
    " * Set the shape using `n_classes` with batch size set to `None`.\n",
    " * Name the TensorFlow placeholder \"y\" using the TensorFlow `name` parameter in the [TF Placeholder](https://www.tensorflow.org/api_docs/python/tf/placeholder).\n",
    "* Implement `neural_net_keep_prob_input`\n",
    " * Return a [TF Placeholder](https://www.tensorflow.org/api_docs/python/tf/placeholder) for dropout keep probability.\n",
    " * Name the TensorFlow placeholder \"keep_prob\" using the TensorFlow `name` parameter in the [TF Placeholder](https://www.tensorflow.org/api_docs/python/tf/placeholder).\n",
    "\n",
    "These names will be used at the end of the project to load your saved model.\n",
    "\n",
    "Note: `None` for shapes in TensorFlow allow for a dynamic size."
   ]
  },
  {
   "cell_type": "code",
   "execution_count": 7,
   "metadata": {
    "collapsed": false,
    "deletable": true,
    "editable": true
   },
   "outputs": [
    {
     "name": "stdout",
     "output_type": "stream",
     "text": [
      "Image Input Tests Passed.\n",
      "Label Input Tests Passed.\n",
      "Keep Prob Tests Passed.\n"
     ]
    }
   ],
   "source": [
    "import tensorflow as tf\n",
    "\n",
    "def neural_net_image_input(image_shape):\n",
    "    \"\"\"\n",
    "    Return a Tensor for a bach of image input\n",
    "    : image_shape: Shape of the images\n",
    "    : return: Tensor for image input.\n",
    "    \"\"\"\n",
    "    shape = [None, image_shape[0], image_shape[1], image_shape[2]]\n",
    "    return tf.placeholder(tf.float32, shape=shape, name='x')\n",
    "\n",
    "\n",
    "def neural_net_label_input(n_classes):\n",
    "    \"\"\"\n",
    "    Return a Tensor for a batch of label input\n",
    "    : n_classes: Number of classes\n",
    "    : return: Tensor for label input.\n",
    "    \"\"\"\n",
    "    return tf.placeholder(tf.float32, shape=[None, n_classes], name='y')\n",
    "\n",
    "\n",
    "def neural_net_keep_prob_input():\n",
    "    \"\"\"\n",
    "    Return a Tensor for keep probability\n",
    "    : return: Tensor for keep probability.\n",
    "    \"\"\"\n",
    "    return tf.placeholder(tf.float32, name='keep_prob')\n",
    "\n",
    "\n",
    "\"\"\"\n",
    "DON'T MODIFY ANYTHING IN THIS CELL THAT IS BELOW THIS LINE\n",
    "\"\"\"\n",
    "tf.reset_default_graph()\n",
    "tests.test_nn_image_inputs(neural_net_image_input)\n",
    "tests.test_nn_label_inputs(neural_net_label_input)\n",
    "tests.test_nn_keep_prob_inputs(neural_net_keep_prob_input)"
   ]
  },
  {
   "cell_type": "markdown",
   "metadata": {
    "deletable": true,
    "editable": true
   },
   "source": [
    "### Convolution and Max Pooling Layer\n",
    "Convolution layers have a lot of success with images. For this code cell, you should implement the function `conv2d_maxpool` to apply convolution then max pooling:\n",
    "* Create the weight and bias using `conv_ksize`, `conv_num_outputs` and the shape of `x_tensor`.\n",
    "* Apply a convolution to `x_tensor` using weight and `conv_strides`.\n",
    " * We recommend you use same padding, but you're welcome to use any padding.\n",
    "* Add bias\n",
    "* Add a nonlinear activation to the convolution.\n",
    "* Apply Max Pooling using `pool_ksize` and `pool_strides`.\n",
    " * We recommend you use same padding, but you're welcome to use any padding.\n",
    "\n",
    "Note: You **can't** use [TensorFlow Layers](https://www.tensorflow.org/api_docs/python/tf/layers) or [TensorFlow Layers (contrib)](https://www.tensorflow.org/api_guides/python/contrib.layers) for this layer.  You're free to use any TensorFlow package for all the other layers."
   ]
  },
  {
   "cell_type": "code",
   "execution_count": 8,
   "metadata": {
    "collapsed": false,
    "deletable": true,
    "editable": true
   },
   "outputs": [
    {
     "name": "stdout",
     "output_type": "stream",
     "text": [
      "Tests Passed\n"
     ]
    }
   ],
   "source": [
    "def conv2d_maxpool(x_tensor, conv_num_outputs, conv_ksize, conv_strides, pool_ksize, pool_strides):\n",
    "    \"\"\"\n",
    "    Apply convolution then max pooling to x_tensor\n",
    "    :param x_tensor: TensorFlow Tensor\n",
    "    :param conv_num_outputs: Number of outputs for the convolutional layer\n",
    "    :param conv_strides: Stride 2-D Tuple for convolution\n",
    "    :param pool_ksize: kernal size 2-D Tuple for pool\n",
    "    :param pool_strides: Stride 2-D Tuple for pool\n",
    "    : return: A tensor that represents convolution and max pooling of x_tensor\n",
    "    \"\"\"    \n",
    "    # Defines the weight and bias\n",
    "    depth = x_tensor.get_shape().as_list()[3]\n",
    "    weight = tf.Variable(tf.truncated_normal([conv_ksize[0], conv_ksize[1], depth, conv_num_outputs], mean=0.001, stddev=0.1))\n",
    "    bias = tf.Variable(tf.zeros(conv_num_outputs))\n",
    "    \n",
    "    # Applies the convolution\n",
    "    conv_layer = tf.nn.conv2d(x_tensor, \n",
    "                              weight, \n",
    "                              strides=[1, conv_strides[0], conv_strides[1], 1], \n",
    "                              padding='SAME')\n",
    "    \n",
    "    # Adds the bias\n",
    "    conv_layer = tf.nn.bias_add(conv_layer, bias)\n",
    "    \n",
    "    # Applies ReLU\n",
    "    conv_layer = tf.nn.relu(conv_layer)\n",
    "    \n",
    "    # Applies max pooling\n",
    "    maxpool = tf.nn.max_pool(conv_layer, \n",
    "                             [1, pool_strides[0], pool_strides[1], 1], \n",
    "                             strides=[1, pool_strides[0], pool_strides[1], 1], \n",
    "                             padding='SAME')\n",
    "    \n",
    "    # Returns the result\n",
    "    return maxpool \n",
    "\n",
    "\n",
    "\"\"\"\n",
    "DON'T MODIFY ANYTHING IN THIS CELL THAT IS BELOW THIS LINE\n",
    "\"\"\"\n",
    "tests.test_con_pool(conv2d_maxpool)"
   ]
  },
  {
   "cell_type": "markdown",
   "metadata": {
    "deletable": true,
    "editable": true
   },
   "source": [
    "### Flatten Layer\n",
    "Implement the `flatten` function to change the dimension of `x_tensor` from a 4-D tensor to a 2-D tensor.  The output should be the shape (*Batch Size*, *Flattened Image Size*). You can use [TensorFlow Layers](https://www.tensorflow.org/api_docs/python/tf/layers) or [TensorFlow Layers (contrib)](https://www.tensorflow.org/api_guides/python/contrib.layers) for this layer."
   ]
  },
  {
   "cell_type": "code",
   "execution_count": 9,
   "metadata": {
    "collapsed": false,
    "deletable": true,
    "editable": true
   },
   "outputs": [
    {
     "name": "stdout",
     "output_type": "stream",
     "text": [
      "Tests Passed\n"
     ]
    }
   ],
   "source": [
    "def flatten(x_tensor):\n",
    "    \"\"\"\n",
    "    Flatten x_tensor to (Batch Size, Flattened Image Size)\n",
    "    : x_tensor: A tensor of size (Batch Size, ...), where ... are the image dimensions.\n",
    "    : return: A tensor of size (Batch Size, Flattened Image Size).\n",
    "    \"\"\"\n",
    "    return tf.contrib.layers.flatten(inputs=x_tensor)\n",
    "\n",
    "\n",
    "\"\"\"\n",
    "DON'T MODIFY ANYTHING IN THIS CELL THAT IS BELOW THIS LINE\n",
    "\"\"\"\n",
    "tests.test_flatten(flatten)"
   ]
  },
  {
   "cell_type": "markdown",
   "metadata": {
    "deletable": true,
    "editable": true
   },
   "source": [
    "### Fully-Connected Layer\n",
    "Implement the `fully_conn` function to apply a fully connected layer to `x_tensor` with the shape (*Batch Size*, *num_outputs*). You can use [TensorFlow Layers](https://www.tensorflow.org/api_docs/python/tf/layers) or [TensorFlow Layers (contrib)](https://www.tensorflow.org/api_guides/python/contrib.layers) for this layer."
   ]
  },
  {
   "cell_type": "code",
   "execution_count": 10,
   "metadata": {
    "collapsed": false,
    "deletable": true,
    "editable": true
   },
   "outputs": [
    {
     "name": "stdout",
     "output_type": "stream",
     "text": [
      "Tests Passed\n"
     ]
    }
   ],
   "source": [
    "def fully_conn(x_tensor, num_outputs):\n",
    "    \"\"\"\n",
    "    Apply a fully connected layer to x_tensor using weight and bias\n",
    "    : x_tensor: A 2-D tensor where the first dimension is batch size.\n",
    "    : num_outputs: The number of output that the new tensor should be.\n",
    "    : return: A 2-D tensor where the second dimension is num_outputs.\n",
    "    \"\"\"\n",
    "    return tf.contrib.layers.fully_connected(inputs=x_tensor, num_outputs=num_outputs)\n",
    "\n",
    "\n",
    "\"\"\"\n",
    "DON'T MODIFY ANYTHING IN THIS CELL THAT IS BELOW THIS LINE\n",
    "\"\"\"\n",
    "tests.test_fully_conn(fully_conn)"
   ]
  },
  {
   "cell_type": "markdown",
   "metadata": {
    "deletable": true,
    "editable": true
   },
   "source": [
    "### Output Layer\n",
    "Implement the `output` function to apply a fully connected layer to `x_tensor` with the shape (*Batch Size*, *num_outputs*). You can use [TensorFlow Layers](https://www.tensorflow.org/api_docs/python/tf/layers) or [TensorFlow Layers (contrib)](https://www.tensorflow.org/api_guides/python/contrib.layers) for this layer.\n",
    "\n",
    "Note: Activation, softmax, or cross entropy shouldn't be applied to this."
   ]
  },
  {
   "cell_type": "code",
   "execution_count": 11,
   "metadata": {
    "collapsed": false,
    "deletable": true,
    "editable": true
   },
   "outputs": [
    {
     "name": "stdout",
     "output_type": "stream",
     "text": [
      "Tests Passed\n"
     ]
    }
   ],
   "source": [
    "def output(x_tensor, num_outputs):\n",
    "    \"\"\"\n",
    "    Apply a output layer to x_tensor using weight and bias\n",
    "    : x_tensor: A 2-D tensor where the first dimension is batch size.\n",
    "    : num_outputs: The number of output that the new tensor should be.\n",
    "    : return: A 2-D tensor where the second dimension is num_outputs.\n",
    "    \"\"\"\n",
    "    return tf.contrib.layers.fully_connected(inputs=x_tensor, num_outputs=num_outputs)\n",
    "\n",
    "\n",
    "\"\"\"\n",
    "DON'T MODIFY ANYTHING IN THIS CELL THAT IS BELOW THIS LINE\n",
    "\"\"\"\n",
    "tests.test_output(output)"
   ]
  },
  {
   "cell_type": "markdown",
   "metadata": {
    "deletable": true,
    "editable": true
   },
   "source": [
    "### Create Convolutional Model\n",
    "Implement the function `conv_net` to create a convolutional neural network model. The function takes in a batch of images, `x`, and outputs logits.  Use the layers you created above to create this model:\n",
    "\n",
    "* Apply 1, 2, or 3 Convolution and Max Pool layers\n",
    "* Apply a Flatten Layer\n",
    "* Apply 1, 2, or 3 Fully Connected Layers\n",
    "* Apply an Output Layer\n",
    "* Return the output\n",
    "* Apply [TensorFlow's Dropout](https://www.tensorflow.org/api_docs/python/tf/nn/dropout) to one or more layers in the model using `keep_prob`. "
   ]
  },
  {
   "cell_type": "code",
   "execution_count": 12,
   "metadata": {
    "collapsed": false,
    "deletable": true,
    "editable": true
   },
   "outputs": [
    {
     "name": "stdout",
     "output_type": "stream",
     "text": [
      "Neural Network Built!\n"
     ]
    }
   ],
   "source": [
    "def conv_net(x, keep_prob):\n",
    "    \"\"\"\n",
    "    Create a convolutional neural network model\n",
    "    : x: Placeholder tensor that holds image data.\n",
    "    : keep_prob: Placeholder tensor that hold dropout keep probability.\n",
    "    : return: Tensor that represents logits\n",
    "    \"\"\"    \n",
    "    # TODO: Apply 1, 2, or 3 Convolution and Max Pool layers\n",
    "    #    Play around with different number of outputs, kernel size and stride\n",
    "    # Function Definition from Above:\n",
    "    #    conv2d_maxpool(x_tensor, conv_num_outputs, conv_ksize, conv_strides, pool_ksize, pool_strides)\n",
    "    conv1 = conv2d_maxpool(x, 16, (2,2), (1,1), (2, 2), (1,1))\n",
    "    conv1 = tf.nn.dropout(conv1, keep_prob)\n",
    "    conv2 = conv2d_maxpool(conv1, 32, (2,2), (1,1), (2, 2), (1,1))\n",
    "\n",
    "\n",
    "    # TODO: Apply a Flatten Layer\n",
    "    # Function Definition from Above:\n",
    "    #   flatten(x_tensor)\n",
    "    flat = flatten(conv2)\n",
    "    \n",
    "\n",
    "    # TODO: Apply 1, 2, or 3 Fully Connected Layers\n",
    "    #    Play around with different number of outputs\n",
    "    # Function Definition from Above:\n",
    "    #   fully_conn(x_tensor, num_outputs)\n",
    "    fc1 = fully_conn(flat, 256)\n",
    "    fc1 = tf.nn.dropout(fc1, keep_prob)\n",
    "    fc2 = fully_conn(fc1, 128)\n",
    "    fc2 = tf.nn.dropout(fc2, keep_prob)\n",
    "    fc3 = fully_conn(fc1, 64)\n",
    "    \n",
    "    \n",
    "    # TODO: Apply an Output Layer\n",
    "    #    Set this to the number of classes\n",
    "    # Function Definition from Above:\n",
    "    #   output(x_tensor, num_outputs)\n",
    "    logits = output(fc3, 10)\n",
    "    \n",
    "    \n",
    "    # TODO: return output\n",
    "    return logits\n",
    "\n",
    "\n",
    "\"\"\"\n",
    "DON'T MODIFY ANYTHING IN THIS CELL THAT IS BELOW THIS LINE\n",
    "\"\"\"\n",
    "\n",
    "##############################\n",
    "## Build the Neural Network ##\n",
    "##############################\n",
    "\n",
    "# Remove previous weights, bias, inputs, etc..\n",
    "tf.reset_default_graph()\n",
    "\n",
    "# Inputs\n",
    "x = neural_net_image_input((32, 32, 3))\n",
    "y = neural_net_label_input(10)\n",
    "keep_prob = neural_net_keep_prob_input()\n",
    "\n",
    "# Model\n",
    "logits = conv_net(x, keep_prob)\n",
    "\n",
    "# Name logits Tensor, so that is can be loaded from disk after training\n",
    "logits = tf.identity(logits, name='logits')\n",
    "\n",
    "# Loss and Optimizer\n",
    "cost = tf.reduce_mean(tf.nn.softmax_cross_entropy_with_logits(logits=logits, labels=y))\n",
    "optimizer = tf.train.AdamOptimizer().minimize(cost)\n",
    "\n",
    "# Accuracy\n",
    "correct_pred = tf.equal(tf.argmax(logits, 1), tf.argmax(y, 1))\n",
    "accuracy = tf.reduce_mean(tf.cast(correct_pred, tf.float32), name='accuracy')\n",
    "\n",
    "tests.test_conv_net(conv_net)"
   ]
  },
  {
   "cell_type": "markdown",
   "metadata": {
    "deletable": true,
    "editable": true
   },
   "source": [
    "## Train the Neural Network\n",
    "### Single Optimization\n",
    "Implement the function `train_neural_network` to do a single optimization.  The optimization should use `optimizer` to optimize in `session` with a `feed_dict` of the following:\n",
    "* `x` for image input\n",
    "* `y` for labels\n",
    "* `keep_prob` for keep probability for dropout\n",
    "\n",
    "This function will be called for each batch, so `tf.global_variables_initializer()` has already been called.\n",
    "\n",
    "Note: Nothing needs to be returned. This function is only optimizing the neural network."
   ]
  },
  {
   "cell_type": "code",
   "execution_count": 13,
   "metadata": {
    "collapsed": false,
    "deletable": true,
    "editable": true
   },
   "outputs": [
    {
     "name": "stdout",
     "output_type": "stream",
     "text": [
      "Tests Passed\n"
     ]
    }
   ],
   "source": [
    "def train_neural_network(session, optimizer, keep_probability, feature_batch, label_batch):\n",
    "    \"\"\"\n",
    "    Optimize the session on a batch of images and labels\n",
    "    : session: Current TensorFlow session\n",
    "    : optimizer: TensorFlow optimizer function\n",
    "    : keep_probability: keep probability\n",
    "    : feature_batch: Batch of Numpy image data\n",
    "    : label_batch: Batch of Numpy label data\n",
    "    \"\"\"\n",
    "    session.run(optimizer, feed_dict={x: feature_batch, y: label_batch, keep_prob: keep_probability})\n",
    "\n",
    "\n",
    "\"\"\"\n",
    "DON'T MODIFY ANYTHING IN THIS CELL THAT IS BELOW THIS LINE\n",
    "\"\"\"\n",
    "tests.test_train_nn(train_neural_network)"
   ]
  },
  {
   "cell_type": "markdown",
   "metadata": {
    "deletable": true,
    "editable": true
   },
   "source": [
    "### Show Stats\n",
    "Implement the function `print_stats` to print loss and validation accuracy.  Use the global variables `valid_features` and `valid_labels` to calculate validation accuracy.  Use a keep probability of `1.0` to calculate the loss and validation accuracy."
   ]
  },
  {
   "cell_type": "code",
   "execution_count": 14,
   "metadata": {
    "collapsed": false,
    "deletable": true,
    "editable": true
   },
   "outputs": [],
   "source": [
    "def print_stats(session, feature_batch, label_batch, cost, accuracy):\n",
    "    \"\"\"\n",
    "    Print information about loss and validation accuracy\n",
    "    : session: Current TensorFlow session\n",
    "    : feature_batch: Batch of Numpy image data\n",
    "    : label_batch: Batch of Numpy label data\n",
    "    : cost: TensorFlow cost function\n",
    "    : accuracy: TensorFlow accuracy function\n",
    "    \"\"\"\n",
    "    loss = session.run(cost, feed_dict={x: feature_batch, y: label_batch, keep_prob: 1})\n",
    "    valid_acc = session.run(accuracy, feed_dict={x: valid_features, y: valid_labels, keep_prob: 1})\n",
    "    print('Loss at {:10.4f}'.format(loss), 'Validation Accuracy at {:10.4f}'.format(valid_acc)) "
   ]
  },
  {
   "cell_type": "markdown",
   "metadata": {
    "deletable": true,
    "editable": true
   },
   "source": [
    "### Hyperparameters\n",
    "Tune the following parameters:\n",
    "* Set `epochs` to the number of iterations until the network stops learning or start overfitting\n",
    "* Set `batch_size` to the highest number that your machine has memory for.  Most people set them to common sizes of memory:\n",
    " * 64\n",
    " * 128\n",
    " * 256\n",
    " * ...\n",
    "* Set `keep_probability` to the probability of keeping a node using dropout"
   ]
  },
  {
   "cell_type": "code",
   "execution_count": 15,
   "metadata": {
    "collapsed": true,
    "deletable": true,
    "editable": true
   },
   "outputs": [],
   "source": [
    "# TODO: Tune Parameters\n",
    "epochs = 30\n",
    "batch_size = 256\n",
    "keep_probability = 0.5"
   ]
  },
  {
   "cell_type": "markdown",
   "metadata": {
    "deletable": true,
    "editable": true
   },
   "source": [
    "### Train on a Single CIFAR-10 Batch\n",
    "Instead of training the neural network on all the CIFAR-10 batches of data, let's use a single batch. This should save time while you iterate on the model to get a better accuracy.  Once the final validation accuracy is 50% or greater, run the model on all the data in the next section."
   ]
  },
  {
   "cell_type": "code",
   "execution_count": 16,
   "metadata": {
    "collapsed": false,
    "deletable": true,
    "editable": true
   },
   "outputs": [
    {
     "name": "stdout",
     "output_type": "stream",
     "text": [
      "Checking the Training on a Single Batch...\n",
      "Epoch  1, CIFAR-10 Batch 1:  Loss at     2.2842 Validation Accuracy at     0.1508\n",
      "Epoch  2, CIFAR-10 Batch 1:  Loss at     2.2183 Validation Accuracy at     0.2284\n",
      "Epoch  3, CIFAR-10 Batch 1:  Loss at     2.1422 Validation Accuracy at     0.2904\n",
      "Epoch  4, CIFAR-10 Batch 1:  Loss at     2.0636 Validation Accuracy at     0.3124\n",
      "Epoch  5, CIFAR-10 Batch 1:  Loss at     1.7653 Validation Accuracy at     0.3482\n",
      "Epoch  6, CIFAR-10 Batch 1:  Loss at     1.7019 Validation Accuracy at     0.3624\n",
      "Epoch  7, CIFAR-10 Batch 1:  Loss at     1.5353 Validation Accuracy at     0.3980\n",
      "Epoch  8, CIFAR-10 Batch 1:  Loss at     1.3965 Validation Accuracy at     0.4024\n",
      "Epoch  9, CIFAR-10 Batch 1:  Loss at     1.2250 Validation Accuracy at     0.4192\n",
      "Epoch 10, CIFAR-10 Batch 1:  Loss at     1.1436 Validation Accuracy at     0.4286\n",
      "Epoch 11, CIFAR-10 Batch 1:  Loss at     0.9633 Validation Accuracy at     0.4656\n",
      "Epoch 12, CIFAR-10 Batch 1:  Loss at     0.8508 Validation Accuracy at     0.4834\n",
      "Epoch 13, CIFAR-10 Batch 1:  Loss at     0.8326 Validation Accuracy at     0.4746\n",
      "Epoch 14, CIFAR-10 Batch 1:  Loss at     0.7274 Validation Accuracy at     0.4872\n",
      "Epoch 15, CIFAR-10 Batch 1:  Loss at     0.6433 Validation Accuracy at     0.5010\n",
      "Epoch 16, CIFAR-10 Batch 1:  Loss at     0.5961 Validation Accuracy at     0.4830\n",
      "Epoch 17, CIFAR-10 Batch 1:  Loss at     0.4514 Validation Accuracy at     0.5066\n",
      "Epoch 18, CIFAR-10 Batch 1:  Loss at     0.4173 Validation Accuracy at     0.5106\n",
      "Epoch 19, CIFAR-10 Batch 1:  Loss at     0.3794 Validation Accuracy at     0.5088\n",
      "Epoch 20, CIFAR-10 Batch 1:  Loss at     0.3599 Validation Accuracy at     0.5022\n",
      "Epoch 21, CIFAR-10 Batch 1:  Loss at     0.3231 Validation Accuracy at     0.5114\n",
      "Epoch 22, CIFAR-10 Batch 1:  Loss at     0.2592 Validation Accuracy at     0.5208\n",
      "Epoch 23, CIFAR-10 Batch 1:  Loss at     0.2342 Validation Accuracy at     0.5246\n",
      "Epoch 24, CIFAR-10 Batch 1:  Loss at     0.2100 Validation Accuracy at     0.5234\n",
      "Epoch 25, CIFAR-10 Batch 1:  Loss at     0.1897 Validation Accuracy at     0.5288\n",
      "Epoch 26, CIFAR-10 Batch 1:  Loss at     0.2104 Validation Accuracy at     0.5262\n",
      "Epoch 27, CIFAR-10 Batch 1:  Loss at     0.1462 Validation Accuracy at     0.5326\n",
      "Epoch 28, CIFAR-10 Batch 1:  Loss at     0.1424 Validation Accuracy at     0.5242\n",
      "Epoch 29, CIFAR-10 Batch 1:  Loss at     0.1109 Validation Accuracy at     0.5330\n",
      "Epoch 30, CIFAR-10 Batch 1:  Loss at     0.1048 Validation Accuracy at     0.5260\n"
     ]
    }
   ],
   "source": [
    "\"\"\"\n",
    "DON'T MODIFY ANYTHING IN THIS CELL\n",
    "\"\"\"\n",
    "print('Checking the Training on a Single Batch...')\n",
    "with tf.Session() as sess:\n",
    "    # Initializing the variables\n",
    "    sess.run(tf.global_variables_initializer())\n",
    "    \n",
    "    # Training cycle\n",
    "    for epoch in range(epochs):\n",
    "        batch_i = 1\n",
    "        for batch_features, batch_labels in helper.load_preprocess_training_batch(batch_i, batch_size):\n",
    "            train_neural_network(sess, optimizer, keep_probability, batch_features, batch_labels)\n",
    "        print('Epoch {:>2}, CIFAR-10 Batch {}:  '.format(epoch + 1, batch_i), end='')\n",
    "        print_stats(sess, batch_features, batch_labels, cost, accuracy)"
   ]
  },
  {
   "cell_type": "markdown",
   "metadata": {
    "deletable": true,
    "editable": true
   },
   "source": [
    "### Fully Train the Model\n",
    "Now that you got a good accuracy with a single CIFAR-10 batch, try it with all five batches."
   ]
  },
  {
   "cell_type": "code",
   "execution_count": 17,
   "metadata": {
    "collapsed": false,
    "deletable": true,
    "editable": true
   },
   "outputs": [
    {
     "name": "stdout",
     "output_type": "stream",
     "text": [
      "Training...\n",
      "Epoch  1, CIFAR-10 Batch 1:  Loss at     2.2888 Validation Accuracy at     0.1162\n",
      "Epoch  1, CIFAR-10 Batch 2:  Loss at     2.2837 Validation Accuracy at     0.2040\n",
      "Epoch  1, CIFAR-10 Batch 3:  Loss at     2.1424 Validation Accuracy at     0.2458\n",
      "Epoch  1, CIFAR-10 Batch 4:  Loss at     1.9932 Validation Accuracy at     0.3270\n",
      "Epoch  1, CIFAR-10 Batch 5:  Loss at     1.9107 Validation Accuracy at     0.3830\n",
      "Epoch  2, CIFAR-10 Batch 1:  Loss at     1.8073 Validation Accuracy at     0.3986\n",
      "Epoch  2, CIFAR-10 Batch 2:  Loss at     1.6220 Validation Accuracy at     0.4054\n",
      "Epoch  2, CIFAR-10 Batch 3:  Loss at     1.4451 Validation Accuracy at     0.4284\n",
      "Epoch  2, CIFAR-10 Batch 4:  Loss at     1.5392 Validation Accuracy at     0.4494\n",
      "Epoch  2, CIFAR-10 Batch 5:  Loss at     1.6067 Validation Accuracy at     0.4626\n",
      "Epoch  3, CIFAR-10 Batch 1:  Loss at     1.4924 Validation Accuracy at     0.4932\n",
      "Epoch  3, CIFAR-10 Batch 2:  Loss at     1.2648 Validation Accuracy at     0.4930\n",
      "Epoch  3, CIFAR-10 Batch 3:  Loss at     1.1496 Validation Accuracy at     0.5046\n",
      "Epoch  3, CIFAR-10 Batch 4:  Loss at     1.2873 Validation Accuracy at     0.4978\n",
      "Epoch  3, CIFAR-10 Batch 5:  Loss at     1.4040 Validation Accuracy at     0.5102\n",
      "Epoch  4, CIFAR-10 Batch 1:  Loss at     1.2920 Validation Accuracy at     0.5254\n",
      "Epoch  4, CIFAR-10 Batch 2:  Loss at     1.0434 Validation Accuracy at     0.5350\n",
      "Epoch  4, CIFAR-10 Batch 3:  Loss at     0.9515 Validation Accuracy at     0.5304\n",
      "Epoch  4, CIFAR-10 Batch 4:  Loss at     1.1102 Validation Accuracy at     0.5266\n",
      "Epoch  4, CIFAR-10 Batch 5:  Loss at     1.2721 Validation Accuracy at     0.5184\n",
      "Epoch  5, CIFAR-10 Batch 1:  Loss at     1.1318 Validation Accuracy at     0.5390\n",
      "Epoch  5, CIFAR-10 Batch 2:  Loss at     0.8788 Validation Accuracy at     0.5428\n",
      "Epoch  5, CIFAR-10 Batch 3:  Loss at     0.8496 Validation Accuracy at     0.5484\n",
      "Epoch  5, CIFAR-10 Batch 4:  Loss at     1.0130 Validation Accuracy at     0.5592\n",
      "Epoch  5, CIFAR-10 Batch 5:  Loss at     1.0651 Validation Accuracy at     0.5660\n",
      "Epoch  6, CIFAR-10 Batch 1:  Loss at     1.0776 Validation Accuracy at     0.5600\n",
      "Epoch  6, CIFAR-10 Batch 2:  Loss at     0.8165 Validation Accuracy at     0.5678\n",
      "Epoch  6, CIFAR-10 Batch 3:  Loss at     0.7053 Validation Accuracy at     0.5626\n",
      "Epoch  6, CIFAR-10 Batch 4:  Loss at     0.8895 Validation Accuracy at     0.5718\n",
      "Epoch  6, CIFAR-10 Batch 5:  Loss at     0.9304 Validation Accuracy at     0.5770\n",
      "Epoch  7, CIFAR-10 Batch 1:  Loss at     0.9480 Validation Accuracy at     0.5756\n",
      "Epoch  7, CIFAR-10 Batch 2:  Loss at     0.7037 Validation Accuracy at     0.5842\n",
      "Epoch  7, CIFAR-10 Batch 3:  Loss at     0.6147 Validation Accuracy at     0.5750\n",
      "Epoch  7, CIFAR-10 Batch 4:  Loss at     0.8121 Validation Accuracy at     0.5804\n",
      "Epoch  7, CIFAR-10 Batch 5:  Loss at     0.8662 Validation Accuracy at     0.5702\n",
      "Epoch  8, CIFAR-10 Batch 1:  Loss at     0.8188 Validation Accuracy at     0.5676\n",
      "Epoch  8, CIFAR-10 Batch 2:  Loss at     0.6789 Validation Accuracy at     0.5784\n",
      "Epoch  8, CIFAR-10 Batch 3:  Loss at     0.5648 Validation Accuracy at     0.5860\n",
      "Epoch  8, CIFAR-10 Batch 4:  Loss at     0.7610 Validation Accuracy at     0.5892\n",
      "Epoch  8, CIFAR-10 Batch 5:  Loss at     0.7180 Validation Accuracy at     0.5878\n",
      "Epoch  9, CIFAR-10 Batch 1:  Loss at     0.7536 Validation Accuracy at     0.5878\n",
      "Epoch  9, CIFAR-10 Batch 2:  Loss at     0.6130 Validation Accuracy at     0.5872\n",
      "Epoch  9, CIFAR-10 Batch 3:  Loss at     0.4950 Validation Accuracy at     0.5920\n",
      "Epoch  9, CIFAR-10 Batch 4:  Loss at     0.6718 Validation Accuracy at     0.5932\n",
      "Epoch  9, CIFAR-10 Batch 5:  Loss at     0.6605 Validation Accuracy at     0.5824\n",
      "Epoch 10, CIFAR-10 Batch 1:  Loss at     0.6544 Validation Accuracy at     0.5970\n",
      "Epoch 10, CIFAR-10 Batch 2:  Loss at     0.5608 Validation Accuracy at     0.5910\n",
      "Epoch 10, CIFAR-10 Batch 3:  Loss at     0.4486 Validation Accuracy at     0.5996\n",
      "Epoch 10, CIFAR-10 Batch 4:  Loss at     0.6149 Validation Accuracy at     0.5996\n",
      "Epoch 10, CIFAR-10 Batch 5:  Loss at     0.5252 Validation Accuracy at     0.6058\n",
      "Epoch 11, CIFAR-10 Batch 1:  Loss at     0.6109 Validation Accuracy at     0.6006\n",
      "Epoch 11, CIFAR-10 Batch 2:  Loss at     0.5373 Validation Accuracy at     0.6012\n",
      "Epoch 11, CIFAR-10 Batch 3:  Loss at     0.4252 Validation Accuracy at     0.6012\n",
      "Epoch 11, CIFAR-10 Batch 4:  Loss at     0.5656 Validation Accuracy at     0.6030\n",
      "Epoch 11, CIFAR-10 Batch 5:  Loss at     0.4994 Validation Accuracy at     0.6062\n",
      "Epoch 12, CIFAR-10 Batch 1:  Loss at     0.5568 Validation Accuracy at     0.5964\n",
      "Epoch 12, CIFAR-10 Batch 2:  Loss at     0.4438 Validation Accuracy at     0.6078\n",
      "Epoch 12, CIFAR-10 Batch 3:  Loss at     0.4021 Validation Accuracy at     0.6014\n",
      "Epoch 12, CIFAR-10 Batch 4:  Loss at     0.4846 Validation Accuracy at     0.6084\n",
      "Epoch 12, CIFAR-10 Batch 5:  Loss at     0.4929 Validation Accuracy at     0.6020\n",
      "Epoch 13, CIFAR-10 Batch 1:  Loss at     0.5528 Validation Accuracy at     0.6096\n",
      "Epoch 13, CIFAR-10 Batch 2:  Loss at     0.4088 Validation Accuracy at     0.6102\n",
      "Epoch 13, CIFAR-10 Batch 3:  Loss at     0.3490 Validation Accuracy at     0.6064\n",
      "Epoch 13, CIFAR-10 Batch 4:  Loss at     0.4611 Validation Accuracy at     0.6170\n",
      "Epoch 13, CIFAR-10 Batch 5:  Loss at     0.4396 Validation Accuracy at     0.6114\n",
      "Epoch 14, CIFAR-10 Batch 1:  Loss at     0.5107 Validation Accuracy at     0.6048\n",
      "Epoch 14, CIFAR-10 Batch 2:  Loss at     0.3913 Validation Accuracy at     0.6060\n",
      "Epoch 14, CIFAR-10 Batch 3:  Loss at     0.3386 Validation Accuracy at     0.6126\n",
      "Epoch 14, CIFAR-10 Batch 4:  Loss at     0.4168 Validation Accuracy at     0.6192\n",
      "Epoch 14, CIFAR-10 Batch 5:  Loss at     0.4223 Validation Accuracy at     0.6186\n",
      "Epoch 15, CIFAR-10 Batch 1:  Loss at     0.4883 Validation Accuracy at     0.6118\n",
      "Epoch 15, CIFAR-10 Batch 2:  Loss at     0.3677 Validation Accuracy at     0.6074\n",
      "Epoch 15, CIFAR-10 Batch 3:  Loss at     0.3291 Validation Accuracy at     0.6086\n",
      "Epoch 15, CIFAR-10 Batch 4:  Loss at     0.3742 Validation Accuracy at     0.6204\n",
      "Epoch 15, CIFAR-10 Batch 5:  Loss at     0.3822 Validation Accuracy at     0.6210\n",
      "Epoch 16, CIFAR-10 Batch 1:  Loss at     0.4490 Validation Accuracy at     0.6098\n",
      "Epoch 16, CIFAR-10 Batch 2:  Loss at     0.3326 Validation Accuracy at     0.6162\n",
      "Epoch 16, CIFAR-10 Batch 3:  Loss at     0.2770 Validation Accuracy at     0.6210\n",
      "Epoch 16, CIFAR-10 Batch 4:  Loss at     0.3454 Validation Accuracy at     0.6234\n",
      "Epoch 16, CIFAR-10 Batch 5:  Loss at     0.3315 Validation Accuracy at     0.6286\n",
      "Epoch 17, CIFAR-10 Batch 1:  Loss at     0.4482 Validation Accuracy at     0.6222\n",
      "Epoch 17, CIFAR-10 Batch 2:  Loss at     0.3253 Validation Accuracy at     0.6232\n",
      "Epoch 17, CIFAR-10 Batch 3:  Loss at     0.2561 Validation Accuracy at     0.6162\n",
      "Epoch 17, CIFAR-10 Batch 4:  Loss at     0.3103 Validation Accuracy at     0.6286\n",
      "Epoch 17, CIFAR-10 Batch 5:  Loss at     0.3358 Validation Accuracy at     0.6142\n",
      "Epoch 18, CIFAR-10 Batch 1:  Loss at     0.4328 Validation Accuracy at     0.6160\n",
      "Epoch 18, CIFAR-10 Batch 2:  Loss at     0.3099 Validation Accuracy at     0.6276\n",
      "Epoch 18, CIFAR-10 Batch 3:  Loss at     0.2437 Validation Accuracy at     0.6178\n",
      "Epoch 18, CIFAR-10 Batch 4:  Loss at     0.2681 Validation Accuracy at     0.6306\n",
      "Epoch 18, CIFAR-10 Batch 5:  Loss at     0.3120 Validation Accuracy at     0.6300\n",
      "Epoch 19, CIFAR-10 Batch 1:  Loss at     0.3892 Validation Accuracy at     0.6304\n",
      "Epoch 19, CIFAR-10 Batch 2:  Loss at     0.2939 Validation Accuracy at     0.6188\n",
      "Epoch 19, CIFAR-10 Batch 3:  Loss at     0.2356 Validation Accuracy at     0.6206\n",
      "Epoch 19, CIFAR-10 Batch 4:  Loss at     0.2785 Validation Accuracy at     0.6274\n",
      "Epoch 19, CIFAR-10 Batch 5:  Loss at     0.2627 Validation Accuracy at     0.6246\n",
      "Epoch 20, CIFAR-10 Batch 1:  Loss at     0.3841 Validation Accuracy at     0.6252\n",
      "Epoch 20, CIFAR-10 Batch 2:  Loss at     0.2756 Validation Accuracy at     0.6304\n",
      "Epoch 20, CIFAR-10 Batch 3:  Loss at     0.2263 Validation Accuracy at     0.6214\n",
      "Epoch 20, CIFAR-10 Batch 4:  Loss at     0.2725 Validation Accuracy at     0.6364\n",
      "Epoch 20, CIFAR-10 Batch 5:  Loss at     0.2795 Validation Accuracy at     0.6194\n",
      "Epoch 21, CIFAR-10 Batch 1:  Loss at     0.3545 Validation Accuracy at     0.6310\n",
      "Epoch 21, CIFAR-10 Batch 2:  Loss at     0.2648 Validation Accuracy at     0.6320\n",
      "Epoch 21, CIFAR-10 Batch 3:  Loss at     0.2135 Validation Accuracy at     0.6258\n",
      "Epoch 21, CIFAR-10 Batch 4:  Loss at     0.2501 Validation Accuracy at     0.6340\n",
      "Epoch 21, CIFAR-10 Batch 5:  Loss at     0.2467 Validation Accuracy at     0.6250\n",
      "Epoch 22, CIFAR-10 Batch 1:  Loss at     0.3344 Validation Accuracy at     0.6346\n",
      "Epoch 22, CIFAR-10 Batch 2:  Loss at     0.2599 Validation Accuracy at     0.6274\n",
      "Epoch 22, CIFAR-10 Batch 3:  Loss at     0.2225 Validation Accuracy at     0.6128\n",
      "Epoch 22, CIFAR-10 Batch 4:  Loss at     0.2297 Validation Accuracy at     0.6314\n",
      "Epoch 22, CIFAR-10 Batch 5:  Loss at     0.2434 Validation Accuracy at     0.6266\n",
      "Epoch 23, CIFAR-10 Batch 1:  Loss at     0.3196 Validation Accuracy at     0.6312\n",
      "Epoch 23, CIFAR-10 Batch 2:  Loss at     0.2599 Validation Accuracy at     0.6246\n",
      "Epoch 23, CIFAR-10 Batch 3:  Loss at     0.2176 Validation Accuracy at     0.6254\n",
      "Epoch 23, CIFAR-10 Batch 4:  Loss at     0.2031 Validation Accuracy at     0.6350\n",
      "Epoch 23, CIFAR-10 Batch 5:  Loss at     0.2319 Validation Accuracy at     0.6274\n",
      "Epoch 24, CIFAR-10 Batch 1:  Loss at     0.3392 Validation Accuracy at     0.6364\n",
      "Epoch 24, CIFAR-10 Batch 2:  Loss at     0.2005 Validation Accuracy at     0.6378\n",
      "Epoch 24, CIFAR-10 Batch 3:  Loss at     0.1635 Validation Accuracy at     0.6308\n",
      "Epoch 24, CIFAR-10 Batch 4:  Loss at     0.1744 Validation Accuracy at     0.6324\n",
      "Epoch 24, CIFAR-10 Batch 5:  Loss at     0.2063 Validation Accuracy at     0.6290\n",
      "Epoch 25, CIFAR-10 Batch 1:  Loss at     0.3334 Validation Accuracy at     0.6398\n",
      "Epoch 25, CIFAR-10 Batch 2:  Loss at     0.2282 Validation Accuracy at     0.6150\n",
      "Epoch 25, CIFAR-10 Batch 3:  Loss at     0.1731 Validation Accuracy at     0.6378\n",
      "Epoch 25, CIFAR-10 Batch 4:  Loss at     0.1716 Validation Accuracy at     0.6432\n",
      "Epoch 25, CIFAR-10 Batch 5:  Loss at     0.1933 Validation Accuracy at     0.6388\n",
      "Epoch 26, CIFAR-10 Batch 1:  Loss at     0.2853 Validation Accuracy at     0.6430\n",
      "Epoch 26, CIFAR-10 Batch 2:  Loss at     0.1947 Validation Accuracy at     0.6196\n",
      "Epoch 26, CIFAR-10 Batch 3:  Loss at     0.1754 Validation Accuracy at     0.6350\n",
      "Epoch 26, CIFAR-10 Batch 4:  Loss at     0.1468 Validation Accuracy at     0.6410\n",
      "Epoch 26, CIFAR-10 Batch 5:  Loss at     0.1826 Validation Accuracy at     0.6310\n",
      "Epoch 27, CIFAR-10 Batch 1:  Loss at     0.2770 Validation Accuracy at     0.6380\n",
      "Epoch 27, CIFAR-10 Batch 2:  Loss at     0.1788 Validation Accuracy at     0.6198\n",
      "Epoch 27, CIFAR-10 Batch 3:  Loss at     0.1833 Validation Accuracy at     0.6232\n",
      "Epoch 27, CIFAR-10 Batch 4:  Loss at     0.1578 Validation Accuracy at     0.6314\n",
      "Epoch 27, CIFAR-10 Batch 5:  Loss at     0.1782 Validation Accuracy at     0.6334\n",
      "Epoch 28, CIFAR-10 Batch 1:  Loss at     0.2551 Validation Accuracy at     0.6450\n",
      "Epoch 28, CIFAR-10 Batch 2:  Loss at     0.1565 Validation Accuracy at     0.6226\n",
      "Epoch 28, CIFAR-10 Batch 3:  Loss at     0.1485 Validation Accuracy at     0.6374\n",
      "Epoch 28, CIFAR-10 Batch 4:  Loss at     0.1465 Validation Accuracy at     0.6390\n",
      "Epoch 28, CIFAR-10 Batch 5:  Loss at     0.1537 Validation Accuracy at     0.6288\n",
      "Epoch 29, CIFAR-10 Batch 1:  Loss at     0.2450 Validation Accuracy at     0.6388\n",
      "Epoch 29, CIFAR-10 Batch 2:  Loss at     0.1711 Validation Accuracy at     0.6242\n",
      "Epoch 29, CIFAR-10 Batch 3:  Loss at     0.1456 Validation Accuracy at     0.6312\n",
      "Epoch 29, CIFAR-10 Batch 4:  Loss at     0.1519 Validation Accuracy at     0.6374\n",
      "Epoch 29, CIFAR-10 Batch 5:  Loss at     0.1414 Validation Accuracy at     0.6316\n",
      "Epoch 30, CIFAR-10 Batch 1:  Loss at     0.2389 Validation Accuracy at     0.6342\n",
      "Epoch 30, CIFAR-10 Batch 2:  Loss at     0.1498 Validation Accuracy at     0.6278\n",
      "Epoch 30, CIFAR-10 Batch 3:  Loss at     0.1401 Validation Accuracy at     0.6356\n",
      "Epoch 30, CIFAR-10 Batch 4:  Loss at     0.1330 Validation Accuracy at     0.6356\n",
      "Epoch 30, CIFAR-10 Batch 5:  Loss at     0.1345 Validation Accuracy at     0.6358\n"
     ]
    }
   ],
   "source": [
    "\"\"\"\n",
    "DON'T MODIFY ANYTHING IN THIS CELL\n",
    "\"\"\"\n",
    "save_model_path = './image_classification'\n",
    "\n",
    "print('Training...')\n",
    "with tf.Session() as sess:\n",
    "    # Initializing the variables\n",
    "    sess.run(tf.global_variables_initializer())\n",
    "    \n",
    "    # Training cycle\n",
    "    for epoch in range(epochs):\n",
    "        # Loop over all batches\n",
    "        n_batches = 5\n",
    "        for batch_i in range(1, n_batches + 1):\n",
    "            for batch_features, batch_labels in helper.load_preprocess_training_batch(batch_i, batch_size):\n",
    "                train_neural_network(sess, optimizer, keep_probability, batch_features, batch_labels)\n",
    "            print('Epoch {:>2}, CIFAR-10 Batch {}:  '.format(epoch + 1, batch_i), end='')\n",
    "            print_stats(sess, batch_features, batch_labels, cost, accuracy)\n",
    "            \n",
    "    # Save Model\n",
    "    saver = tf.train.Saver()\n",
    "    save_path = saver.save(sess, save_model_path)"
   ]
  },
  {
   "cell_type": "markdown",
   "metadata": {
    "deletable": true,
    "editable": true
   },
   "source": [
    "# Checkpoint\n",
    "The model has been saved to disk.\n",
    "## Test Model\n",
    "Test your model against the test dataset.  This will be your final accuracy. You should have an accuracy greater than 50%. If you don't, keep tweaking the model architecture and parameters."
   ]
  },
  {
   "cell_type": "code",
   "execution_count": 18,
   "metadata": {
    "collapsed": false,
    "deletable": true,
    "editable": true
   },
   "outputs": [
    {
     "name": "stdout",
     "output_type": "stream",
     "text": [
      "Testing Accuracy: 0.63271484375\n",
      "\n"
     ]
    },
    {
     "data": {
      "image/png": "[encoded data removed]",
      "text/plain": [
       "<matplotlib.figure.Figure at 0x7f96ab793ef0>"
      ]
     },
     "metadata": {
      "image/png": {
       "height": 319,
       "width": 355
      }
     },
     "output_type": "display_data"
    }
   ],
   "source": [
    "\"\"\"\n",
    "DON'T MODIFY ANYTHING IN THIS CELL\n",
    "\"\"\"\n",
    "%matplotlib inline\n",
    "%config InlineBackend.figure_format = 'retina'\n",
    "\n",
    "import tensorflow as tf\n",
    "import pickle\n",
    "import helper\n",
    "import random\n",
    "\n",
    "# Set batch size if not already set\n",
    "try:\n",
    "    if batch_size:\n",
    "        pass\n",
    "except NameError:\n",
    "    batch_size = 64\n",
    "\n",
    "save_model_path = './image_classification'\n",
    "n_samples = 4\n",
    "top_n_predictions = 3\n",
    "\n",
    "def test_model():\n",
    "    \"\"\"\n",
    "    Test the saved model against the test dataset\n",
    "    \"\"\"\n",
    "\n",
    "    test_features, test_labels = pickle.load(open('preprocess_training.p', mode='rb'))\n",
    "    loaded_graph = tf.Graph()\n",
    "\n",
    "    with tf.Session(graph=loaded_graph) as sess:\n",
    "        # Load model\n",
    "        loader = tf.train.import_meta_graph(save_model_path + '.meta')\n",
    "        loader.restore(sess, save_model_path)\n",
    "\n",
    "        # Get Tensors from loaded model\n",
    "        loaded_x = loaded_graph.get_tensor_by_name('x:0')\n",
    "        loaded_y = loaded_graph.get_tensor_by_name('y:0')\n",
    "        loaded_keep_prob = loaded_graph.get_tensor_by_name('keep_prob:0')\n",
    "        loaded_logits = loaded_graph.get_tensor_by_name('logits:0')\n",
    "        loaded_acc = loaded_graph.get_tensor_by_name('accuracy:0')\n",
    "        \n",
    "        # Get accuracy in batches for memory limitations\n",
    "        test_batch_acc_total = 0\n",
    "        test_batch_count = 0\n",
    "        \n",
    "        for train_feature_batch, train_label_batch in helper.batch_features_labels(test_features, test_labels, batch_size):\n",
    "            test_batch_acc_total += sess.run(\n",
    "                loaded_acc,\n",
    "                feed_dict={loaded_x: train_feature_batch, loaded_y: train_label_batch, loaded_keep_prob: 1.0})\n",
    "            test_batch_count += 1\n",
    "\n",
    "        print('Testing Accuracy: {}\\n'.format(test_batch_acc_total/test_batch_count))\n",
    "\n",
    "        # Print Random Samples\n",
    "        random_test_features, random_test_labels = tuple(zip(*random.sample(list(zip(test_features, test_labels)), n_samples)))\n",
    "        random_test_predictions = sess.run(\n",
    "            tf.nn.top_k(tf.nn.softmax(loaded_logits), top_n_predictions),\n",
    "            feed_dict={loaded_x: random_test_features, loaded_y: random_test_labels, loaded_keep_prob: 1.0})\n",
    "        helper.display_image_predictions(random_test_features, random_test_labels, random_test_predictions)\n",
    "\n",
    "\n",
    "test_model()"
   ]
  },
  {
   "cell_type": "markdown",
   "metadata": {
    "deletable": true,
    "editable": true
   },
   "source": [
    "## Why 50-70% Accuracy?\n",
    "You might be wondering why you can't get an accuracy any higher. First things first, 50% isn't bad for a simple CNN.  Pure guessing would get you 10% accuracy. However, you might notice people are getting scores [well above 70%](http://rodrigob.github.io/are_we_there_yet/build/classification_datasets_results.html#43494641522d3130).  That's because we haven't taught you all there is to know about neural networks. We still need to cover a few more techniques.\n",
    "## Submitting This Project\n",
    "When submitting this project, make sure to run all the cells before saving the notebook.  Save the notebook file as \"dlnd_image_classification.ipynb\" and save it as a HTML file under \"File\" -> \"Download as\".  Include the \"helper.py\" and \"problem_unittests.py\" files in your submission."
   ]
  },
  {
   "cell_type": "code",
   "execution_count": null,
   "metadata": {
    "collapsed": true,
    "deletable": true,
    "editable": true
   },
   "outputs": [],
   "source": []
  }
 ],
 "metadata": {
  "kernelspec": {
   "display_name": "Python 3",
   "language": "python",
   "name": "python3"
  },
  "language_info": {
   "codemirror_mode": {
    "name": "ipython",
    "version": 3
   },
   "file_extension": ".py",
   "mimetype": "text/x-python",
   "name": "python",
   "nbconvert_exporter": "python",
   "pygments_lexer": "ipython3",
   "version": "3.5.2"
  },
  "widgets": {
   "state": {},
   "version": "1.1.2"
  }
 },
 "nbformat": 4,
 "nbformat_minor": 0
}
